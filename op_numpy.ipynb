{
 "cells": [
  {
   "cell_type": "markdown",
   "metadata": {},
   "source": [
    "# Numpy Array operation"
   ]
  },
  {
   "cell_type": "code",
   "execution_count": 1,
   "metadata": {},
   "outputs": [],
   "source": [
    "import numpy as np"
   ]
  },
  {
   "cell_type": "code",
   "execution_count": 2,
   "metadata": {},
   "outputs": [
    {
     "name": "stdout",
     "output_type": "stream",
     "text": [
      "Array Element:  4\n",
      "Array Row:  [4 5 6]\n",
      "Array Column:  [2 5 8]\n",
      "Array :  [[1 2 3]\n",
      " [4 5 6]\n",
      " [7 8 9]]\n",
      "Array :  [1 5 9]\n"
     ]
    }
   ],
   "source": [
    "arr_2d = np.array([[1,2,3],\n",
    "                   [4,5,6],\n",
    "                   [7,8,9]])\n",
    "\n",
    "print(\"Array Element: \", arr_2d[1,0])\n",
    "print(\"Array Row: \", arr_2d[1])\n",
    "print(\"Array Column: \", arr_2d[:,1])\n",
    "print(\"Array : \", arr_2d[:,:])\n",
    "print(\"Array : \", arr_2d.diagonal())"
   ]
  },
  {
   "cell_type": "markdown",
   "metadata": {},
   "source": [
    "# Sorting"
   ]
  },
  {
   "cell_type": "code",
   "execution_count": 3,
   "metadata": {},
   "outputs": [
    {
     "name": "stdout",
     "output_type": "stream",
     "text": [
      "Sorted array : [0 1 2 3 3 5 5 6 7 8]\n",
      "Sorted 2D array :\n",
      " [[3 2 1]\n",
      " [6 5 4]\n",
      " [9 8 7]]\n",
      "Sorted 2D array :\n",
      " [[7 8 9]\n",
      " [4 5 6]\n",
      " [1 2 3]]\n"
     ]
    }
   ],
   "source": [
    "arr = np.array([8,5,2,5,3,7,0,1,3,6])\n",
    "print(\"Sorted array :\", np.sort(arr))\n",
    "\n",
    "arr_1 = np.array([[9,8,7],\n",
    "                  [6,5,4],\n",
    "                  [3,2,1]])\n",
    "\n",
    "print(\"Sorted 2D array :\\n\", np.sort(arr_1, axis=0))\n",
    "print(\"Sorted 2D array :\\n\", np.sort(arr_1, axis=1))"
   ]
  },
  {
   "cell_type": "markdown",
   "metadata": {},
   "source": [
    "## Filters"
   ]
  },
  {
   "cell_type": "code",
   "execution_count": 4,
   "metadata": {},
   "outputs": [
    {
     "name": "stdout",
     "output_type": "stream",
     "text": [
      "Even No:  [ 2  4  6  8 10]\n",
      "Odd No:  [1 3 5 7 9]\n"
     ]
    }
   ],
   "source": [
    "number = np.array([1,2,3,4,5,6,7,8,9,10])\n",
    "even_no = number[number % 2 == 0]\n",
    "print(\"Even No: \", even_no)\n",
    "odd_no = number[number % 2 != 0]\n",
    "print(\"Odd No: \", odd_no)"
   ]
  },
  {
   "cell_type": "markdown",
   "metadata": {},
   "source": [
    "## Filter with Mask"
   ]
  },
  {
   "cell_type": "code",
   "execution_count": 5,
   "metadata": {},
   "outputs": [
    {
     "name": "stdout",
     "output_type": "stream",
     "text": [
      "no greater than 5:  [ 6  7  8  9 10]\n"
     ]
    }
   ],
   "source": [
    "mask = number > 5\n",
    "print(\"no greater than 5: \", number[mask])"
   ]
  },
  {
   "cell_type": "markdown",
   "metadata": {},
   "source": [
    "## Fancy indexing vs np.where"
   ]
  },
  {
   "cell_type": "code",
   "execution_count": 6,
   "metadata": {},
   "outputs": [
    {
     "name": "stdout",
     "output_type": "stream",
     "text": [
      "[1 3 5]\n",
      "where clause:  (array([5, 6, 7, 8, 9]),)\n",
      "where clause array:  [ 6  7  8  9 10]\n",
      "[           1            2            3            4            5\n",
      "  60000000000  70000000000  80000000000  90000000000 100000000000]\n"
     ]
    }
   ],
   "source": [
    "indecies = [0,2,4]\n",
    "print(number[indecies])\n",
    "\n",
    "where_rs = np.where(number > 5)\n",
    "print(\"where clause: \", where_rs)\n",
    "print(\"where clause array: \", number[where_rs])\n",
    "\n",
    "condition_ar = np.where(number > 5, number*10000000000, number)\n",
    "print(condition_ar)"
   ]
  },
  {
   "cell_type": "markdown",
   "metadata": {},
   "source": [
    "## Adding And Removing Data"
   ]
  },
  {
   "cell_type": "code",
   "execution_count": 7,
   "metadata": {},
   "outputs": [
    {
     "name": "stdout",
     "output_type": "stream",
     "text": [
      "[1 2 3 4 5 6]\n",
      "Original array :\n",
      " [[1 2]\n",
      " [3 4]]\n",
      "New array :\n",
      " [[1 2]\n",
      " [3 4]\n",
      " [5 6]]\n",
      "New array Column :\n",
      " [[1 2 7]\n",
      " [3 4 8]]\n"
     ]
    }
   ],
   "source": [
    "arr1 = np.array([1,2,3])\n",
    "arr2 = np.array([4,5,6])\n",
    "\n",
    "combine = np.concatenate((arr1,arr2))\n",
    "print(combine)\n",
    "\n",
    "original = np.array([[1,2],[3,4]])\n",
    "new_ar = np.array([[5,6]])\n",
    "\n",
    "new_row = np.vstack((original, new_ar))\n",
    "\n",
    "print(\"Original array :\\n\",original)\n",
    "print(\"New array :\\n\",new_row)\n",
    "\n",
    "col = np.array([[7], [8]])\n",
    "new_col = np.hstack((original, col))\n",
    "print(\"New array Column :\\n\",new_col)"
   ]
  }
 ],
 "metadata": {
  "kernelspec": {
   "display_name": "venv",
   "language": "python",
   "name": "python3"
  },
  "language_info": {
   "codemirror_mode": {
    "name": "ipython",
    "version": 3
   },
   "file_extension": ".py",
   "mimetype": "text/x-python",
   "name": "python",
   "nbconvert_exporter": "python",
   "pygments_lexer": "ipython3",
   "version": "3.13.2"
  }
 },
 "nbformat": 4,
 "nbformat_minor": 2
}
