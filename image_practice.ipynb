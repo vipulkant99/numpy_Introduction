{
 "cells": [
  {
   "cell_type": "code",
   "execution_count": 20,
   "metadata": {},
   "outputs": [],
   "source": [
    "import numpy as np\n",
    "import matplotlib.pyplot as plt\n",
    "from PIL import Image as img"
   ]
  },
  {
   "cell_type": "code",
   "execution_count": 3,
   "metadata": {},
   "outputs": [],
   "source": [
    "array1 = np.array([[1,2,3],[4,5,6]])\n",
    "array2 = np.random.rand(3,3)\n",
    "array3 = np.zeros((4,4))"
   ]
  },
  {
   "cell_type": "code",
   "execution_count": 5,
   "metadata": {},
   "outputs": [],
   "source": [
    "np.save('array1.npy', array1)\n",
    "np.save('array2.npy', array2)\n",
    "np.save('array3.npy', array3)"
   ]
  },
  {
   "cell_type": "code",
   "execution_count": null,
   "metadata": {},
   "outputs": [],
   "source": [
    "load1 = np.load('array1.npy')\n",
    "load2 = np.load('array2.npy')\n",
    "load3 = np.load('array3.npy')\n",
    "print(load1)\n",
    "print(load2)\n",
    "print(load3)"
   ]
  },
  {
   "cell_type": "code",
   "execution_count": null,
   "metadata": {},
   "outputs": [],
   "source": [
    "try:\n",
    "    logo = np.load('numpy-logo.npy')\n",
    "\n",
    "    plt.figure(figsize=(7,7))\n",
    "    plt.subplot(121)\n",
    "    plt.imshow(logo)\n",
    "    plt.grid(False)\n",
    "    dark = 1 - logo\n",
    "    plt.subplot(122)\n",
    "    plt.imshow(dark)\n",
    "    plt.grid(False)\n",
    "except FileNotFoundError:\n",
    "    print(\"File Not Found!!\")"
   ]
  }
 ],
 "metadata": {
  "kernelspec": {
   "display_name": "venv",
   "language": "python",
   "name": "python3"
  },
  "language_info": {
   "codemirror_mode": {
    "name": "ipython",
    "version": 3
   },
   "file_extension": ".py",
   "mimetype": "text/x-python",
   "name": "python",
   "nbconvert_exporter": "python",
   "pygments_lexer": "ipython3",
   "version": "3.13.2"
  }
 },
 "nbformat": 4,
 "nbformat_minor": 2
}
