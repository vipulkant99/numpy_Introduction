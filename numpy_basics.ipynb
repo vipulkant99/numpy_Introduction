{
 "cells": [
  {
   "cell_type": "markdown",
   "metadata": {},
   "source": [
    "### python -m venv venv\n",
    "### venv\\Scripts\\activate  \n"
   ]
  },
  {
   "cell_type": "markdown",
   "metadata": {},
   "source": [
    "## Numpy Basics"
   ]
  },
  {
   "cell_type": "code",
   "execution_count": 1,
   "metadata": {},
   "outputs": [],
   "source": [
    "import numpy as np "
   ]
  },
  {
   "cell_type": "markdown",
   "metadata": {},
   "source": [
    "## Creating array From list"
   ]
  },
  {
   "cell_type": "code",
   "execution_count": null,
   "metadata": {},
   "outputs": [],
   "source": [
    "arr_1d = np.array([1,2,3])\n",
    "print(\"1d array: \", arr_1d)\n",
    "\n",
    "arr_2d = np.array([[1,2,3],[4,5,6]])\n",
    "print(\"2d array: \", arr_2d)"
   ]
  },
  {
   "cell_type": "markdown",
   "metadata": {},
   "source": [
    "## Numpy vs List"
   ]
  },
  {
   "cell_type": "code",
   "execution_count": null,
   "metadata": {},
   "outputs": [],
   "source": [
    "py_list = [1,2,3]\n",
    "print(\"python list mul : \", py_list * 2)\n",
    "\n",
    "np_array = np.array([[1,2,3], [4,5,6]])\n",
    "print(\"numpy array mul : \", np_array * 2)\n",
    "\n",
    "import time\n",
    "start = time.time()\n",
    "\n",
    "py_list = [i*2 for i in range(1000000)]\n",
    "print(\"\\n operation time: \", time.time() - start)\n",
    "\n",
    "start = time.time()\n",
    "np_array = np.arange(100000000) * 2\n",
    "print(\"\\n operation time: \", time.time() - start)"
   ]
  },
  {
   "cell_type": "markdown",
   "metadata": {},
   "source": [
    "### Creating Numpy Array From Scratch"
   ]
  },
  {
   "cell_type": "code",
   "execution_count": null,
   "metadata": {},
   "outputs": [],
   "source": [
    "zeros = np.zeros((5,5))\n",
    "print(zeros)\n",
    "\n",
    "ones = np.ones((5,5))\n",
    "print(\"\\n\",ones)\n",
    "\n",
    "full = np.full((5,5), 69)\n",
    "print(\"\\n\",full)\n",
    "\n",
    "random = np.random.random((3,3))\n",
    "print(\"\\n\",random)"
   ]
  },
  {
   "cell_type": "markdown",
   "metadata": {},
   "source": [
    "## vector, matrices & tensor"
   ]
  },
  {
   "cell_type": "code",
   "execution_count": null,
   "metadata": {},
   "outputs": [],
   "source": [
    "vector = np.array([1,2,3])\n",
    "print(\"\\n\", vector)\n",
    "\n",
    "matrices = np.array([[1,2,3],\n",
    "                     [4,5,6]])\n",
    "print(\"\\n\",matrices)\n",
    "\n",
    "tensor = np.array([[[1,2],[3,4]],\n",
    "                   [[5,6],[7,8]]])\n",
    "print(\"\\n\",tensor)"
   ]
  },
  {
   "cell_type": "markdown",
   "metadata": {},
   "source": [
    "## Array Properties"
   ]
  },
  {
   "cell_type": "code",
   "execution_count": null,
   "metadata": {},
   "outputs": [],
   "source": [
    "arr = np.array([[1,2,3],\n",
    "                [4,5,6],\n",
    "                [7,8,9]])\n",
    "print(\"Shape: \", arr.shape)\n",
    "print(\"dimension: \", arr.ndim)\n",
    "print(\"Size: \", arr.size)\n",
    "print(\"Dtype: \", arr.dtype)"
   ]
  },
  {
   "cell_type": "markdown",
   "metadata": {},
   "source": [
    "## Array Reshaping"
   ]
  },
  {
   "cell_type": "code",
   "execution_count": null,
   "metadata": {},
   "outputs": [],
   "source": [
    "arr = np.arange(12)\n",
    "print(\"\\n Original array: \", arr)\n",
    "\n",
    "reshape = arr.reshape(3,4)\n",
    "print(\"\\n Reshaped array: \", reshape)\n",
    "\n",
    "flattened = reshape.flatten()\n",
    "print(\"\\n Flatten array: \", flattened)\n",
    "\n",
    "raveled = reshape.ravel()\n",
    "print(\"\\n Raveled array: \", raveled)\n",
    "\n",
    "transpose = reshape.T\n",
    "print(\"\\n Transpose array: \", transpose)"
   ]
  }
 ],
 "metadata": {
  "kernelspec": {
   "display_name": "venv",
   "language": "python",
   "name": "python3"
  },
  "language_info": {
   "codemirror_mode": {
    "name": "ipython",
    "version": 3
   },
   "file_extension": ".py",
   "mimetype": "text/x-python",
   "name": "python",
   "nbconvert_exporter": "python",
   "pygments_lexer": "ipython3",
   "version": "3.13.2"
  }
 },
 "nbformat": 4,
 "nbformat_minor": 2
}
